{
 "metadata": {
  "name": ""
 },
 "nbformat": 3,
 "nbformat_minor": 0,
 "worksheets": [
  {
   "cells": [
    {
     "cell_type": "code",
     "collapsed": false,
     "input": [
      "fil = open('TB04AD.f')"
     ],
     "language": "python",
     "metadata": {},
     "outputs": [],
     "prompt_number": 1
    },
    {
     "cell_type": "code",
     "collapsed": false,
     "input": [
      "txt = fil.read()"
     ],
     "language": "python",
     "metadata": {},
     "outputs": [],
     "prompt_number": 2
    },
    {
     "cell_type": "code",
     "collapsed": false,
     "input": [
      "lines = txt.splitlines()"
     ],
     "language": "python",
     "metadata": {},
     "outputs": [],
     "prompt_number": 3
    },
    {
     "cell_type": "code",
     "collapsed": false,
     "input": [
      "header = ''\n",
      "for l in lines:\n",
      "    if header:\n",
      "        if ')' in l:\n",
      "            i = l.find(')')\n",
      "            header += l[:i+1]\n",
      "            break\n",
      "        else:\n",
      "            header += l\n",
      "    if 'SUBROUTINE' in l:\n",
      "        header = l.strip()\n",
      "data = [d.strip() for d in header.split('$')]\n",
      "header = ' '.join(data)\n",
      "print header"
     ],
     "language": "python",
     "metadata": {},
     "outputs": [
      {
       "output_type": "stream",
       "stream": "stdout",
       "text": [
        "SUBROUTINE TB04AD( ROWCOL, N, M, P, A, LDA, B, LDB, C, LDC, D, LDD, NR, INDEX, DCOEFF, LDDCOE, UCOEFF, LDUCO1, LDUCO2, TOL1, TOL2, IWORK, DWORK, LDWORK, INFO )\n"
       ]
      }
     ],
     "prompt_number": 4
    },
    {
     "cell_type": "code",
     "collapsed": false,
     "input": [
      "params = header[header.find('(')+1:-2].strip().split(', ')"
     ],
     "language": "python",
     "metadata": {},
     "outputs": [],
     "prompt_number": 5
    },
    {
     "cell_type": "code",
     "collapsed": false,
     "input": [
      "types = ['CHARACTER', 'DOUBLE PRECISION', 'INTEGER', 'LOGICAL']"
     ],
     "language": "python",
     "metadata": {},
     "outputs": [],
     "prompt_number": 7
    },
    {
     "cell_type": "code",
     "collapsed": false,
     "input": [
      "typelist = []\n",
      "hastype=False\n",
      "for l in lines:\n",
      "    if l.startswith('C'):\n",
      "        continue\n",
      "    elif hastype and ('$' in l):\n",
      "        data+=l\n",
      "    else:\n",
      "        type_tl = False\n",
      "        for t in types:\n",
      "            if t in l:\n",
      "                ftype = t\n",
      "                type_tl = True\n",
      "                hastype = True\n",
      "                data=l\n",
      "                break\n",
      "        if hastype and not type_tl:\n",
      "            typelist.append((ftype, data))\n",
      "            hastype=False\n",
      "            continue\n",
      "        hastype = False\n",
      "\n",
      "for i in typelist:\n",
      "    print i"
     ],
     "language": "python",
     "metadata": {},
     "outputs": [],
     "prompt_number": 14
    },
    {
     "cell_type": "code",
     "collapsed": false,
     "input": [],
     "language": "python",
     "metadata": {},
     "outputs": []
    }
   ],
   "metadata": {}
  }
 ]
}